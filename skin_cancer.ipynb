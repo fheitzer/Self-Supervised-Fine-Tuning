{
 "cells": [
  {
   "cell_type": "markdown",
   "metadata": {
    "collapsed": false,
    "jupyter": {
     "outputs_hidden": false
    }
   },
   "source": [
    "# Prepare the HAM10K and the ISIC dataset according to our use case"
   ]
  },
  {
   "cell_type": "markdown",
   "metadata": {
    "collapsed": false,
    "jupyter": {
     "outputs_hidden": false
    }
   },
   "source": [
    "Rough Gameplan\n",
    "- Load the datasets\n",
    "-   Inspect the datasets\n",
    "-   Define the shared classes\n",
    "-   Filter by shared classes\n",
    "-   Inspect filtered datatsets\n",
    "-   Set a resizing format\n",
    "-   Preprocess datasets\n",
    "-   Save Datasets"
   ]
  },
  {
   "cell_type": "code",
   "execution_count": 1,
   "metadata": {
    "collapsed": false,
    "jupyter": {
     "outputs_hidden": false
    },
    "ExecuteTime": {
     "end_time": "2023-09-21T09:23:20.966563Z",
     "start_time": "2023-09-21T09:23:04.357096Z"
    }
   },
   "outputs": [],
   "source": [
    "import pandas as pd\n",
    "import numpy as np\n",
    "import tensorflow as tf\n",
    "import matplotlib.pyplot as plt"
   ]
  },
  {
   "cell_type": "markdown",
   "metadata": {
    "collapsed": false,
    "jupyter": {
     "outputs_hidden": false
    }
   },
   "source": [
    "## HAM10K"
   ]
  },
  {
   "cell_type": "markdown",
   "metadata": {
    "collapsed": false,
    "jupyter": {
     "outputs_hidden": false
    }
   },
   "source": [
    "### Load the data"
   ]
  },
  {
   "cell_type": "code",
   "execution_count": 9,
   "metadata": {
    "collapsed": false,
    "jupyter": {
     "outputs_hidden": false
    },
    "ExecuteTime": {
     "end_time": "2023-09-21T09:28:13.091181Z",
     "start_time": "2023-09-21T09:28:12.057846Z"
    }
   },
   "outputs": [
    {
     "data": {
      "text/plain": "       pixel0000  pixel0001  pixel0002  pixel0003  pixel0004  pixel0005  \\\n0            192        153        193        195        155        192   \n1             25         14         30         68         48         75   \n2            192        138        153        200        145        163   \n3             38         19         30         95         59         72   \n4            158        113        139        194        144        174   \n...          ...        ...        ...        ...        ...        ...   \n10010        183        165        181        182        165        180   \n10011          2          3          1         38         33         32   \n10012        132        118        118        167        149        149   \n10013        160        124        146        164        131        152   \n10014        175        142        121        181        150        134   \n\n       pixel0006  pixel0007  pixel0008  pixel0009  ...  pixel2343  pixel2344  \\\n0            197        154        185        202  ...        173        124   \n1            123         93        126        158  ...         60         39   \n2            201        142        160        206  ...        167        129   \n3            143        103        119        171  ...         44         26   \n4            215        162        191        225  ...        209        166   \n...          ...        ...        ...        ...  ...        ...        ...   \n10010        184        166        182        188  ...        208        185   \n10011        121        104        103        132  ...         96         79   \n10012        175        156        160        184  ...        204        181   \n10013        167        127        146        169  ...        185        162   \n10014        181        150        133        178  ...        159         79   \n\n       pixel2345  pixel2346  pixel2347  pixel2348  pixel2349  pixel2350  \\\n0            138        183        147        166        185        154   \n1             55         25         14         28         25         14   \n2            143        159        124        142        136        104   \n3             36         25         12         17         25         12   \n4            185        172        135        149        109         78   \n...          ...        ...        ...        ...        ...        ...   \n10010        187        208        186        186        206        187   \n10011         76         24         23         21          3          4   \n10012        178        181        159        153        172        151   \n10013        167        184        157        166        185        162   \n10014         82        174        137        125        175        139   \n\n       pixel2351  label  \n0            177      2  \n1             27      2  \n2            117      2  \n3             15      2  \n4             92      2  \n...          ...    ...  \n10010        189      0  \n10011          1      0  \n10012        145      0  \n10013        172      0  \n10014        126      6  \n\n[10015 rows x 2353 columns]",
      "text/html": "<div>\n<style scoped>\n    .dataframe tbody tr th:only-of-type {\n        vertical-align: middle;\n    }\n\n    .dataframe tbody tr th {\n        vertical-align: top;\n    }\n\n    .dataframe thead th {\n        text-align: right;\n    }\n</style>\n<table border=\"1\" class=\"dataframe\">\n  <thead>\n    <tr style=\"text-align: right;\">\n      <th></th>\n      <th>pixel0000</th>\n      <th>pixel0001</th>\n      <th>pixel0002</th>\n      <th>pixel0003</th>\n      <th>pixel0004</th>\n      <th>pixel0005</th>\n      <th>pixel0006</th>\n      <th>pixel0007</th>\n      <th>pixel0008</th>\n      <th>pixel0009</th>\n      <th>...</th>\n      <th>pixel2343</th>\n      <th>pixel2344</th>\n      <th>pixel2345</th>\n      <th>pixel2346</th>\n      <th>pixel2347</th>\n      <th>pixel2348</th>\n      <th>pixel2349</th>\n      <th>pixel2350</th>\n      <th>pixel2351</th>\n      <th>label</th>\n    </tr>\n  </thead>\n  <tbody>\n    <tr>\n      <th>0</th>\n      <td>192</td>\n      <td>153</td>\n      <td>193</td>\n      <td>195</td>\n      <td>155</td>\n      <td>192</td>\n      <td>197</td>\n      <td>154</td>\n      <td>185</td>\n      <td>202</td>\n      <td>...</td>\n      <td>173</td>\n      <td>124</td>\n      <td>138</td>\n      <td>183</td>\n      <td>147</td>\n      <td>166</td>\n      <td>185</td>\n      <td>154</td>\n      <td>177</td>\n      <td>2</td>\n    </tr>\n    <tr>\n      <th>1</th>\n      <td>25</td>\n      <td>14</td>\n      <td>30</td>\n      <td>68</td>\n      <td>48</td>\n      <td>75</td>\n      <td>123</td>\n      <td>93</td>\n      <td>126</td>\n      <td>158</td>\n      <td>...</td>\n      <td>60</td>\n      <td>39</td>\n      <td>55</td>\n      <td>25</td>\n      <td>14</td>\n      <td>28</td>\n      <td>25</td>\n      <td>14</td>\n      <td>27</td>\n      <td>2</td>\n    </tr>\n    <tr>\n      <th>2</th>\n      <td>192</td>\n      <td>138</td>\n      <td>153</td>\n      <td>200</td>\n      <td>145</td>\n      <td>163</td>\n      <td>201</td>\n      <td>142</td>\n      <td>160</td>\n      <td>206</td>\n      <td>...</td>\n      <td>167</td>\n      <td>129</td>\n      <td>143</td>\n      <td>159</td>\n      <td>124</td>\n      <td>142</td>\n      <td>136</td>\n      <td>104</td>\n      <td>117</td>\n      <td>2</td>\n    </tr>\n    <tr>\n      <th>3</th>\n      <td>38</td>\n      <td>19</td>\n      <td>30</td>\n      <td>95</td>\n      <td>59</td>\n      <td>72</td>\n      <td>143</td>\n      <td>103</td>\n      <td>119</td>\n      <td>171</td>\n      <td>...</td>\n      <td>44</td>\n      <td>26</td>\n      <td>36</td>\n      <td>25</td>\n      <td>12</td>\n      <td>17</td>\n      <td>25</td>\n      <td>12</td>\n      <td>15</td>\n      <td>2</td>\n    </tr>\n    <tr>\n      <th>4</th>\n      <td>158</td>\n      <td>113</td>\n      <td>139</td>\n      <td>194</td>\n      <td>144</td>\n      <td>174</td>\n      <td>215</td>\n      <td>162</td>\n      <td>191</td>\n      <td>225</td>\n      <td>...</td>\n      <td>209</td>\n      <td>166</td>\n      <td>185</td>\n      <td>172</td>\n      <td>135</td>\n      <td>149</td>\n      <td>109</td>\n      <td>78</td>\n      <td>92</td>\n      <td>2</td>\n    </tr>\n    <tr>\n      <th>...</th>\n      <td>...</td>\n      <td>...</td>\n      <td>...</td>\n      <td>...</td>\n      <td>...</td>\n      <td>...</td>\n      <td>...</td>\n      <td>...</td>\n      <td>...</td>\n      <td>...</td>\n      <td>...</td>\n      <td>...</td>\n      <td>...</td>\n      <td>...</td>\n      <td>...</td>\n      <td>...</td>\n      <td>...</td>\n      <td>...</td>\n      <td>...</td>\n      <td>...</td>\n      <td>...</td>\n    </tr>\n    <tr>\n      <th>10010</th>\n      <td>183</td>\n      <td>165</td>\n      <td>181</td>\n      <td>182</td>\n      <td>165</td>\n      <td>180</td>\n      <td>184</td>\n      <td>166</td>\n      <td>182</td>\n      <td>188</td>\n      <td>...</td>\n      <td>208</td>\n      <td>185</td>\n      <td>187</td>\n      <td>208</td>\n      <td>186</td>\n      <td>186</td>\n      <td>206</td>\n      <td>187</td>\n      <td>189</td>\n      <td>0</td>\n    </tr>\n    <tr>\n      <th>10011</th>\n      <td>2</td>\n      <td>3</td>\n      <td>1</td>\n      <td>38</td>\n      <td>33</td>\n      <td>32</td>\n      <td>121</td>\n      <td>104</td>\n      <td>103</td>\n      <td>132</td>\n      <td>...</td>\n      <td>96</td>\n      <td>79</td>\n      <td>76</td>\n      <td>24</td>\n      <td>23</td>\n      <td>21</td>\n      <td>3</td>\n      <td>4</td>\n      <td>1</td>\n      <td>0</td>\n    </tr>\n    <tr>\n      <th>10012</th>\n      <td>132</td>\n      <td>118</td>\n      <td>118</td>\n      <td>167</td>\n      <td>149</td>\n      <td>149</td>\n      <td>175</td>\n      <td>156</td>\n      <td>160</td>\n      <td>184</td>\n      <td>...</td>\n      <td>204</td>\n      <td>181</td>\n      <td>178</td>\n      <td>181</td>\n      <td>159</td>\n      <td>153</td>\n      <td>172</td>\n      <td>151</td>\n      <td>145</td>\n      <td>0</td>\n    </tr>\n    <tr>\n      <th>10013</th>\n      <td>160</td>\n      <td>124</td>\n      <td>146</td>\n      <td>164</td>\n      <td>131</td>\n      <td>152</td>\n      <td>167</td>\n      <td>127</td>\n      <td>146</td>\n      <td>169</td>\n      <td>...</td>\n      <td>185</td>\n      <td>162</td>\n      <td>167</td>\n      <td>184</td>\n      <td>157</td>\n      <td>166</td>\n      <td>185</td>\n      <td>162</td>\n      <td>172</td>\n      <td>0</td>\n    </tr>\n    <tr>\n      <th>10014</th>\n      <td>175</td>\n      <td>142</td>\n      <td>121</td>\n      <td>181</td>\n      <td>150</td>\n      <td>134</td>\n      <td>181</td>\n      <td>150</td>\n      <td>133</td>\n      <td>178</td>\n      <td>...</td>\n      <td>159</td>\n      <td>79</td>\n      <td>82</td>\n      <td>174</td>\n      <td>137</td>\n      <td>125</td>\n      <td>175</td>\n      <td>139</td>\n      <td>126</td>\n      <td>6</td>\n    </tr>\n  </tbody>\n</table>\n<p>10015 rows × 2353 columns</p>\n</div>"
     },
     "execution_count": 9,
     "metadata": {},
     "output_type": "execute_result"
    }
   ],
   "source": [
    "ham = pd.read_csv('data/ham10k/hmnist_28_28_RGB.csv')\n",
    "ham"
   ]
  },
  {
   "cell_type": "code",
   "execution_count": 10,
   "metadata": {
    "collapsed": false,
    "jupyter": {
     "outputs_hidden": false
    },
    "ExecuteTime": {
     "end_time": "2023-09-21T09:28:14.855294Z",
     "start_time": "2023-09-21T09:28:14.804094Z"
    }
   },
   "outputs": [],
   "source": [
    "#Filter for nevus and melanoma\n",
    "ham = ham[(ham['label'] == 3) | (ham['label'] == 4)]\n",
    "# Separate labels\n",
    "ham_y = ham.pop('label')\n",
    "ham_y = np.asarray(ham_y)\n",
    "\n",
    "# Reshape image data\n",
    "ham = ham.to_numpy()\n",
    "ham = np.reshape(ham, (len(ham), 28, 28, 3))"
   ]
  },
  {
   "cell_type": "code",
   "execution_count": 13,
   "outputs": [
    {
     "data": {
      "text/plain": "(array([3, 4]), array([ 115, 6705]))"
     },
     "execution_count": 13,
     "metadata": {},
     "output_type": "execute_result"
    }
   ],
   "source": [
    "np.unique(ham_y, return_counts=True)"
   ],
   "metadata": {
    "collapsed": false,
    "ExecuteTime": {
     "end_time": "2023-09-21T09:30:03.591834Z",
     "start_time": "2023-09-21T09:30:03.586368Z"
    }
   }
  },
  {
   "cell_type": "raw",
   "source": [
    "feats = ['akiec', 'bcc', 'df', 'mel', 'nv', 'vasc', 'bkl']\n",
    "\n",
    "plt.hist(ham_y, bins=7)\n",
    "plt.xticks([x for x in range(7)], feats, rotation=90)\n",
    "plt.show()"
   ],
   "metadata": {
    "collapsed": false
   }
  },
  {
   "cell_type": "code",
   "execution_count": 14,
   "metadata": {
    "collapsed": false,
    "jupyter": {
     "outputs_hidden": false
    },
    "ExecuteTime": {
     "end_time": "2023-09-21T09:31:47.827712Z",
     "start_time": "2023-09-21T09:31:45.048818Z"
    }
   },
   "outputs": [
    {
     "name": "stderr",
     "output_type": "stream",
     "text": [
      "2023-09-21 11:31:45.165753: W tensorflow/tsl/platform/profile_utils/cpu_utils.cc:128] Failed to get CPU frequency: 0 Hz\n"
     ]
    }
   ],
   "source": [
    "ham = ham / 255\n",
    "ham = tf.data.Dataset.from_tensor_slices(ham)\n",
    "ham = ham.map(lambda x: tf.cast(x, tf.float32))\n",
    "\n",
    "ham_y = tf.data.Dataset.from_tensor_slices(ham_y)\n",
    "ham_y = ham_y.map(lambda x: tf.one_hot(x, 2))\n",
    "\n",
    "ds = tf.data.Dataset.zip((ham, ham_y))\n",
    "ds.save('data/ham10k/ham10k_tf_nvmel', compression='GZIP')"
   ]
  },
  {
   "cell_type": "markdown",
   "metadata": {
    "ExecuteTime": {
     "end_time": "2023-08-30T18:03:52.531326Z",
     "start_time": "2023-08-30T18:03:52.524432Z"
    },
    "collapsed": false,
    "jupyter": {
     "outputs_hidden": false
    }
   },
   "source": [
    "## ISIC"
   ]
  },
  {
   "cell_type": "code",
   "execution_count": 15,
   "metadata": {
    "collapsed": false,
    "jupyter": {
     "outputs_hidden": false
    },
    "ExecuteTime": {
     "end_time": "2023-09-21T09:32:19.936157Z",
     "start_time": "2023-09-21T09:32:19.932115Z"
    }
   },
   "outputs": [],
   "source": [
    "import os\n",
    "from PIL import Image"
   ]
  },
  {
   "cell_type": "code",
   "execution_count": null,
   "outputs": [],
   "source": [],
   "metadata": {
    "collapsed": false
   }
  },
  {
   "cell_type": "code",
   "execution_count": 16,
   "metadata": {
    "collapsed": false,
    "jupyter": {
     "outputs_hidden": false
    },
    "ExecuteTime": {
     "end_time": "2023-09-21T09:32:21.291234Z",
     "start_time": "2023-09-21T09:32:21.284960Z"
    }
   },
   "outputs": [
    {
     "data": {
      "text/plain": "['actinic keratosis',\n 'basal cell carcinoma',\n 'dermatofibroma',\n 'melanoma',\n 'nevus',\n 'pigmented benign keratosis',\n 'seborrheic keratosis',\n 'squamous cell carcinoma',\n 'vascular lesion']"
     },
     "execution_count": 16,
     "metadata": {},
     "output_type": "execute_result"
    }
   ],
   "source": [
    "feature_names = [x for x in os.listdir('data/Isic/Train') if not x.startswith('.')]\n",
    "idx = [4, 3, -1, 0, 2, 1, -2, -4, -3]\n",
    "feature_names = [feature_names[x] for x in idx]\n",
    "feature_names"
   ]
  },
  {
   "cell_type": "code",
   "execution_count": 17,
   "metadata": {
    "collapsed": false,
    "jupyter": {
     "outputs_hidden": false
    },
    "ExecuteTime": {
     "end_time": "2023-09-21T09:32:22.279956Z",
     "start_time": "2023-09-21T09:32:22.273517Z"
    }
   },
   "outputs": [],
   "source": [
    "list_of_images = [val for sublist in [[os.path.join(i[0], j) for j in i[2]] for i in os.walk('data/Isic/Train')] for val in sublist][1:]"
   ]
  },
  {
   "cell_type": "code",
   "execution_count": 18,
   "metadata": {
    "ExecuteTime": {
     "end_time": "2023-09-21T09:32:40.766429Z",
     "start_time": "2023-09-21T09:32:23.109971Z"
    }
   },
   "outputs": [],
   "source": [
    "zuweisungen = [0, 1, 2, 3, 4, 6, 6, 505, 5]\n",
    "\n",
    "features = dict(zip(feature_names, zuweisungen))\n",
    "\n",
    "isic = np.zeros((2240-182, 28, 28, 3))\n",
    "isic_y = list()\n",
    "\n",
    "i = 0\n",
    "for path in list_of_images:\n",
    "    if 'squamous' in path:\n",
    "        continue\n",
    "    for feature in features.keys():\n",
    "        if feature in path:\n",
    "            isic[i] = Image.open(path).resize((28, 28))\n",
    "            isic_y.append(features[feature])\n",
    "            i += 1\n",
    "            continue"
   ]
  },
  {
   "cell_type": "code",
   "execution_count": 19,
   "metadata": {
    "ExecuteTime": {
     "end_time": "2023-09-21T09:33:07.763838Z",
     "start_time": "2023-09-21T09:33:07.405778Z"
    }
   },
   "outputs": [
    {
     "data": {
      "text/plain": "<Figure size 640x480 with 1 Axes>",
      "image/png": "[encoded data removed]"
     },
     "metadata": {},
     "output_type": "display_data"
    }
   ],
   "source": [
    "isic = isic.astype(int)\n",
    "\n",
    "plt.imshow(isic[123])\n",
    "plt.show()"
   ]
  },
  {
   "cell_type": "code",
   "execution_count": 21,
   "outputs": [
    {
     "data": {
      "text/plain": "[3,\n 3,\n 3,\n 3,\n 3,\n 3,\n 3,\n 3,\n 3,\n 3,\n 3,\n 3,\n 3,\n 3,\n 3,\n 3,\n 3,\n 3,\n 3,\n 3,\n 3,\n 3,\n 3,\n 3,\n 3,\n 3,\n 3,\n 3,\n 3,\n 3,\n 3,\n 3,\n 3,\n 3,\n 3,\n 3,\n 3,\n 3,\n 3,\n 3,\n 3,\n 3,\n 3,\n 3,\n 3,\n 3,\n 3,\n 3,\n 3,\n 3,\n 3,\n 3,\n 3,\n 3,\n 3,\n 3,\n 3,\n 3,\n 3,\n 3,\n 3,\n 3,\n 3,\n 3,\n 3,\n 3,\n 3,\n 3,\n 3,\n 3,\n 3,\n 3,\n 3,\n 3,\n 3,\n 3,\n 3,\n 3,\n 3,\n 3,\n 3,\n 3,\n 3,\n 3,\n 3,\n 3,\n 3,\n 3,\n 3,\n 3,\n 3,\n 3,\n 3,\n 3,\n 3,\n 3,\n 3,\n 3,\n 3,\n 3,\n 3,\n 3,\n 3,\n 3,\n 3,\n 3,\n 3,\n 3,\n 3,\n 3,\n 3,\n 3,\n 3,\n 3,\n 3,\n 3,\n 3,\n 3,\n 3,\n 3,\n 3,\n 3,\n 3,\n 3,\n 3,\n 3,\n 3,\n 3,\n 3,\n 3,\n 3,\n 3,\n 3,\n 3,\n 3,\n 3,\n 3,\n 3,\n 3,\n 3,\n 3,\n 3,\n 3,\n 3,\n 3,\n 3,\n 3,\n 3,\n 3,\n 3,\n 3,\n 3,\n 3,\n 3,\n 3,\n 3,\n 3,\n 3,\n 3,\n 3,\n 3,\n 3,\n 3,\n 3,\n 3,\n 3,\n 3,\n 3,\n 3,\n 3,\n 3,\n 3,\n 3,\n 3,\n 3,\n 3,\n 3,\n 3,\n 3,\n 3,\n 3,\n 3,\n 3,\n 3,\n 3,\n 3,\n 3,\n 3,\n 3,\n 3,\n 3,\n 3,\n 3,\n 3,\n 3,\n 3,\n 3,\n 3,\n 3,\n 3,\n 3,\n 3,\n 3,\n 3,\n 3,\n 3,\n 3,\n 3,\n 3,\n 3,\n 3,\n 3,\n 3,\n 3,\n 3,\n 3,\n 3,\n 3,\n 3,\n 3,\n 3,\n 3,\n 3,\n 3,\n 3,\n 3,\n 3,\n 3,\n 3,\n 3,\n 3,\n 3,\n 3,\n 3,\n 3,\n 3,\n 3,\n 3,\n 3,\n 3,\n 3,\n 3,\n 3,\n 3,\n 3,\n 3,\n 3,\n 3,\n 3,\n 3,\n 3,\n 3,\n 3,\n 3,\n 3,\n 3,\n 3,\n 3,\n 3,\n 3,\n 3,\n 3,\n 3,\n 3,\n 3,\n 3,\n 3,\n 3,\n 3,\n 3,\n 3,\n 3,\n 3,\n 3,\n 3,\n 3,\n 3,\n 3,\n 3,\n 3,\n 3,\n 3,\n 3,\n 3,\n 3,\n 3,\n 3,\n 3,\n 3,\n 3,\n 3,\n 3,\n 3,\n 3,\n 3,\n 3,\n 3,\n 3,\n 3,\n 3,\n 3,\n 3,\n 3,\n 3,\n 3,\n 3,\n 3,\n 3,\n 3,\n 3,\n 3,\n 3,\n 3,\n 3,\n 3,\n 3,\n 3,\n 3,\n 3,\n 3,\n 3,\n 3,\n 3,\n 3,\n 3,\n 3,\n 3,\n 3,\n 3,\n 3,\n 3,\n 3,\n 3,\n 3,\n 3,\n 3,\n 3,\n 3,\n 3,\n 3,\n 3,\n 3,\n 3,\n 3,\n 3,\n 3,\n 3,\n 3,\n 3,\n 3,\n 3,\n 3,\n 3,\n 3,\n 3,\n 3,\n 3,\n 3,\n 3,\n 3,\n 3,\n 3,\n 3,\n 3,\n 3,\n 3,\n 3,\n 3,\n 3,\n 3,\n 3,\n 3,\n 3,\n 3,\n 3,\n 3,\n 3,\n 3,\n 3,\n 3,\n 3,\n 3,\n 3,\n 3,\n 3,\n 3,\n 3,\n 3,\n 3,\n 3,\n 3,\n 3,\n 3,\n 3,\n 3,\n 3,\n 3,\n 3,\n 3,\n 3,\n 3,\n 3,\n 3,\n 3,\n 3,\n 3,\n 3,\n 3,\n 3,\n 3,\n 3,\n 3,\n 3,\n 3,\n 3,\n 3,\n 3,\n 3,\n 3,\n 3,\n 3,\n 3,\n 3,\n 3,\n 3,\n 3,\n 3,\n 3,\n 3,\n 3,\n 3,\n 3,\n 3,\n 3,\n 3,\n 3,\n 3,\n 3,\n 6,\n 6,\n 6,\n 6,\n 6,\n 6,\n 6,\n 6,\n 6,\n 6,\n 6,\n 6,\n 6,\n 6,\n 6,\n 6,\n 6,\n 6,\n 6,\n 6,\n 6,\n 6,\n 6,\n 6,\n 6,\n 6,\n 6,\n 6,\n 6,\n 6,\n 6,\n 6,\n 6,\n 6,\n 6,\n 6,\n 6,\n 6,\n 6,\n 6,\n 6,\n 6,\n 6,\n 6,\n 6,\n 6,\n 6,\n 6,\n 6,\n 6,\n 6,\n 6,\n 6,\n 6,\n 6,\n 6,\n 6,\n 6,\n 6,\n 6,\n 6,\n 6,\n 6,\n 6,\n 6,\n 6,\n 6,\n 6,\n 6,\n 6,\n 6,\n 6,\n 6,\n 6,\n 6,\n 6,\n 6,\n 6,\n 6,\n 6,\n 6,\n 6,\n 6,\n 6,\n 6,\n 6,\n 6,\n 6,\n 6,\n 6,\n 6,\n 6,\n 6,\n 6,\n 6,\n 6,\n 6,\n 6,\n 6,\n 6,\n 6,\n 6,\n 6,\n 6,\n 6,\n 6,\n 6,\n 6,\n 6,\n 6,\n 6,\n 6,\n 6,\n 6,\n 6,\n 6,\n 6,\n 6,\n 6,\n 6,\n 6,\n 6,\n 6,\n 6,\n 6,\n 6,\n 6,\n 6,\n 6,\n 6,\n 6,\n 6,\n 6,\n 6,\n 6,\n 6,\n 6,\n 6,\n 6,\n 6,\n 6,\n 6,\n 6,\n 6,\n 6,\n 6,\n 6,\n 6,\n 6,\n 6,\n 6,\n 6,\n 6,\n 6,\n 6,\n 6,\n 6,\n 6,\n 6,\n 6,\n 6,\n 6,\n 6,\n 6,\n 6,\n 6,\n 6,\n 6,\n 6,\n 6,\n 6,\n 6,\n 6,\n 6,\n 6,\n 6,\n 6,\n 6,\n 6,\n 6,\n 6,\n 6,\n 6,\n 6,\n 6,\n 6,\n 6,\n 6,\n 6,\n 6,\n 6,\n 6,\n 6,\n 6,\n 6,\n 6,\n 6,\n 6,\n 6,\n 6,\n 6,\n 6,\n 6,\n 6,\n 6,\n 6,\n 6,\n 6,\n 6,\n 6,\n 6,\n 6,\n 6,\n 6,\n 6,\n 6,\n 6,\n 6,\n 6,\n 6,\n 6,\n 6,\n 6,\n 6,\n 6,\n 6,\n 6,\n 6,\n 6,\n 6,\n 6,\n 6,\n 6,\n 6,\n 6,\n 6,\n 6,\n 6,\n 6,\n 6,\n 6,\n 6,\n 6,\n 6,\n 6,\n 6,\n 6,\n 6,\n 6,\n 6,\n 6,\n 6,\n 6,\n 6,\n 6,\n 6,\n 6,\n 6,\n 6,\n 6,\n 6,\n 6,\n 6,\n 6,\n 6,\n 6,\n 6,\n 6,\n 6,\n 6,\n 6,\n 6,\n 6,\n 6,\n 6,\n 6,\n 6,\n 6,\n 6,\n 6,\n 6,\n 6,\n 6,\n 6,\n 6,\n 6,\n 6,\n 6,\n 6,\n 6,\n 6,\n 6,\n 6,\n 6,\n 6,\n 6,\n 6,\n 6,\n 6,\n 6,\n 6,\n 6,\n 6,\n 6,\n 6,\n 6,\n 6,\n 6,\n 6,\n 6,\n 6,\n 6,\n 6,\n 6,\n 6,\n 6,\n 6,\n 6,\n 6,\n 6,\n 6,\n 6,\n 6,\n 6,\n 6,\n 6,\n 6,\n 6,\n 6,\n 6,\n 6,\n 6,\n 6,\n 6,\n 6,\n 6,\n 6,\n 6,\n 6,\n 6,\n 6,\n 6,\n 6,\n 6,\n 6,\n 6,\n 6,\n 6,\n 6,\n 6,\n 6,\n 6,\n 6,\n 6,\n 6,\n 6,\n 6,\n 6,\n 6,\n 6,\n 6,\n 6,\n 6,\n 6,\n 6,\n 6,\n 6,\n 6,\n 6,\n 6,\n 6,\n 6,\n 6,\n 6,\n 6,\n 6,\n 6,\n 6,\n 6,\n 6,\n 6,\n 6,\n 6,\n 6,\n 6,\n 6,\n 6,\n 6,\n 6,\n 6,\n 6,\n 6,\n 6,\n 6,\n 6,\n 6,\n 6,\n 6,\n 6,\n 6,\n 6,\n 6,\n 6,\n 6,\n 6,\n 6,\n 6,\n 6,\n 6,\n 6,\n 6,\n 6,\n 6,\n 6,\n 6,\n 6,\n 6,\n 6,\n 6,\n 6,\n 6,\n 6,\n 6,\n 6,\n 6,\n 6,\n 6,\n 6,\n 6,\n 6,\n 6,\n 6,\n 6,\n 6,\n 6,\n 6,\n 6,\n 6,\n 6,\n 6,\n 6,\n 6,\n 6,\n 6,\n 6,\n 6,\n 6,\n 6,\n 6,\n 6,\n 6,\n 6,\n 6,\n 6,\n 6,\n 6,\n 6,\n 6,\n 6,\n 6,\n 6,\n 6,\n 4,\n 4,\n 4,\n 4,\n 4,\n 4,\n 4,\n 4,\n 4,\n 4,\n 4,\n 4,\n 4,\n 4,\n 4,\n 4,\n 4,\n 4,\n 4,\n 4,\n 4,\n 4,\n 4,\n 4,\n 4,\n 4,\n 4,\n 4,\n 4,\n 4,\n 4,\n 4,\n 4,\n 4,\n 4,\n 4,\n 4,\n 4,\n 4,\n 4,\n 4,\n 4,\n 4,\n 4,\n 4,\n 4,\n 4,\n 4,\n 4,\n 4,\n 4,\n 4,\n 4,\n 4,\n 4,\n 4,\n 4,\n 4,\n 4,\n 4,\n 4,\n 4,\n 4,\n 4,\n 4,\n 4,\n 4,\n 4,\n 4,\n 4,\n 4,\n 4,\n 4,\n 4,\n 4,\n 4,\n 4,\n 4,\n 4,\n 4,\n 4,\n 4,\n 4,\n 4,\n 4,\n 4,\n 4,\n 4,\n 4,\n 4,\n 4,\n 4,\n 4,\n 4,\n 4,\n 4,\n 4,\n 4,\n 4,\n 4,\n ...]"
     },
     "execution_count": 21,
     "metadata": {},
     "output_type": "execute_result"
    }
   ],
   "source": [
    "isic_y"
   ],
   "metadata": {
    "collapsed": false,
    "ExecuteTime": {
     "end_time": "2023-09-21T09:36:27.239588Z",
     "start_time": "2023-09-21T09:36:27.233719Z"
    }
   }
  },
  {
   "cell_type": "code",
   "execution_count": 26,
   "outputs": [],
   "source": [
    "isic_y = np.asarray(isic_y)\n",
    "filter_nvml = (isic_y == 3) | (isic_y == 4)\n",
    "isic_y = isic_y[filter_nvml]\n",
    "isic = isic[filter_nvml]"
   ],
   "metadata": {
    "collapsed": false,
    "ExecuteTime": {
     "end_time": "2023-09-21T09:42:34.060815Z",
     "start_time": "2023-09-21T09:42:34.054060Z"
    }
   }
  },
  {
   "cell_type": "code",
   "execution_count": 27,
   "metadata": {
    "ExecuteTime": {
     "end_time": "2023-09-21T09:42:43.435131Z",
     "start_time": "2023-09-21T09:42:43.055994Z"
    }
   },
   "outputs": [],
   "source": [
    "isic = isic / 255\n",
    "isic = tf.data.Dataset.from_tensor_slices(isic)\n",
    "isic = isic.map(lambda x: tf.cast(x, tf.float32))\n",
    "\n",
    "isic_y = tf.data.Dataset.from_tensor_slices(isic_y)\n",
    "isic_y = isic_y.map(lambda x: tf.one_hot(x, 2))\n",
    "\n",
    "ds = tf.data.Dataset.zip((isic, isic_y))\n",
    "ds.save('data/Isic/isic_tf', compression='GZIP')"
   ]
  },
  {
   "cell_type": "markdown",
   "metadata": {},
   "source": [
    "#### Same for Test Images"
   ]
  },
  {
   "cell_type": "code",
   "execution_count": 30,
   "metadata": {
    "ExecuteTime": {
     "end_time": "2023-09-21T09:44:44.374460Z",
     "start_time": "2023-09-21T09:44:42.090204Z"
    }
   },
   "outputs": [
    {
     "ename": "IndexError",
     "evalue": "boolean index did not match indexed array along dimension 0; dimension is 182 but corresponding boolean dimension is 102",
     "output_type": "error",
     "traceback": [
      "\u001B[0;31m---------------------------------------------------------------------------\u001B[0m",
      "\u001B[0;31mIndexError\u001B[0m                                Traceback (most recent call last)",
      "Cell \u001B[0;32mIn[30], line 20\u001B[0m\n\u001B[1;32m     18\u001B[0m filter_nvml \u001B[38;5;241m=\u001B[39m (isic_y \u001B[38;5;241m==\u001B[39m \u001B[38;5;241m3\u001B[39m) \u001B[38;5;241m|\u001B[39m (isic_y \u001B[38;5;241m==\u001B[39m \u001B[38;5;241m4\u001B[39m)\n\u001B[1;32m     19\u001B[0m isic_y \u001B[38;5;241m=\u001B[39m isic_y[filter_nvml]\n\u001B[0;32m---> 20\u001B[0m isic \u001B[38;5;241m=\u001B[39m \u001B[43misic\u001B[49m\u001B[43m[\u001B[49m\u001B[43mfilter_nvml\u001B[49m\u001B[43m]\u001B[49m\n\u001B[1;32m     22\u001B[0m isic \u001B[38;5;241m=\u001B[39m isic \u001B[38;5;241m/\u001B[39m \u001B[38;5;241m255\u001B[39m\n\u001B[1;32m     23\u001B[0m isic \u001B[38;5;241m=\u001B[39m tf\u001B[38;5;241m.\u001B[39mdata\u001B[38;5;241m.\u001B[39mDataset\u001B[38;5;241m.\u001B[39mfrom_tensor_slices(isic)\n",
      "\u001B[0;31mIndexError\u001B[0m: boolean index did not match indexed array along dimension 0; dimension is 182 but corresponding boolean dimension is 102"
     ]
    }
   ],
   "source": [
    "list_of_images = [val for sublist in [[os.path.join(i[0], j) for j in i[2]] for i in os.walk('data/Isic/Test')] for val in sublist][1:]\n",
    "\n",
    "isic = np.zeros((182, 28, 28, 3))\n",
    "isic_y = list()\n",
    "\n",
    "i = 0\n",
    "for path in list_of_images:\n",
    "    if 'squamous' in path:\n",
    "        continue\n",
    "    for feature in features.keys():\n",
    "        if feature in path:\n",
    "            isic[i] = Image.open(path).resize((28, 28))\n",
    "            isic_y.append(features[feature])\n",
    "            i += 1\n",
    "            continue\n",
    "\n",
    "isic_y = np.asarray(isic_y)\n",
    "filter_nvml = (isic_y == 3) | (isic_y == 4)\n",
    "isic_y = isic_y[filter_nvml]\n",
    "isic = isic[filter_nvml]\n",
    "\n",
    "isic = isic / 255\n",
    "isic = tf.data.Dataset.from_tensor_slices(isic)\n",
    "isic = isic.map(lambda x: tf.cast(x, tf.float32))\n",
    "\n",
    "isic_y = tf.data.Dataset.from_tensor_slices(isic_y)\n",
    "isic_y = isic_y.map(lambda x: tf.one_hot(x, 7))\n",
    "\n",
    "ds = tf.data.Dataset.zip((isic, isic_y))\n",
    "ds.save('data/Isic/isic_tf_test', compression='GZIP')"
   ]
  },
  {
   "cell_type": "code",
   "execution_count": 22,
   "metadata": {},
   "outputs": [],
   "source": [
    "feats = ['actinic keratosis',\n",
    " 'basal cell carcinoma',\n",
    " 'dermatofibroma',\n",
    " 'melanoma',\n",
    " 'nevus',\n",
    " 'vascular lesion',\n",
    " 'seboherreic- & pigmented benign keratosis']"
   ]
  },
  {
   "cell_type": "code",
   "execution_count": 34,
   "metadata": {},
   "outputs": [
    {
     "data": {
      "image/png": "[encoded data removed]",
      "text/plain": [
       "<Figure size 640x480 with 1 Axes>"
      ]
     },
     "metadata": {},
     "output_type": "display_data"
    }
   ],
   "source": [
    "#feature_names.remove('squamous cell carcinoma')\n",
    "\n",
    "plt.hist(isic_y, bins=7)\n",
    "plt.xticks([x for x in range(7)], feats, rotation=90)\n",
    "plt.show()"
   ]
  },
  {
   "cell_type": "code",
   "execution_count": 14,
   "metadata": {},
   "outputs": [
    {
     "data": {
      "text/plain": [
       "array([0, 1, 2, 3, 4, 5, 6])"
      ]
     },
     "execution_count": 14,
     "metadata": {},
     "output_type": "execute_result"
    }
   ],
   "source": [
    "np.unique(isic_y)"
   ]
  },
  {
   "cell_type": "code",
   "execution_count": null,
   "metadata": {},
   "outputs": [],
   "source": []
  }
 ],
 "metadata": {
  "kernelspec": {
   "display_name": "Python 3 (ipykernel)",
   "language": "python",
   "name": "python3"
  },
  "language_info": {
   "codemirror_mode": {
    "name": "ipython",
    "version": 3
   },
   "file_extension": ".py",
   "mimetype": "text/x-python",
   "name": "python",
   "nbconvert_exporter": "python",
   "pygments_lexer": "ipython3",
   "version": "3.9.18"
  }
 },
 "nbformat": 4,
 "nbformat_minor": 4
}
